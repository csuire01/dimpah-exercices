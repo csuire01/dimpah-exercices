{
 "cells": [
  {
   "cell_type": "markdown",
   "metadata": {},
   "source": [
    "# Text Mining"
   ]
  },
  {
   "cell_type": "markdown",
   "metadata": {},
   "source": [
    "Text mining\n",
    "Prerequisite: Technicalities\n",
    "Wikidata API, other APIs\n",
    "Scraping HTML to extract structured/semi-structured information\n",
    "\n"
   ]
  },
  {
   "cell_type": "markdown",
   "metadata": {},
   "source": [
    "\n",
    "Processing text\n",
    "Rule based (regex, etc)\n",
    "PoS tagging\n",
    "N-grams, co-occurrences and concordancer\n",
    "Word embeddings (word2vec, BERT, etc)\n"
   ]
  },
  {
   "cell_type": "markdown",
   "metadata": {},
   "source": [
    "### (b) Text Pre-processing\n",
    "\n",
    "- Rule-based Techniques (regex, etc)\n",
    "- Part-of-Speech (PoS) tagging\n",
    "- Chunking\n",
    "- N-grams, co-occurrences and concordancer\n",
    "- Word embeddings (word2vec, BERT, etc)\n"
   ]
  },
  {
   "cell_type": "markdown",
   "metadata": {},
   "source": [
    "### i. Programming Basics"
   ]
  },
  {
   "cell_type": "markdown",
   "metadata": {},
   "source": [
    "A **text** as nothing more than a sequence of **words** and **punctuation**. In the following example, `sentence` followed by the `=` sign, and then some quoted words, separated with commas, surrounded with brackets is known as a list in Python."
   ]
  },
  {
   "cell_type": "code",
   "execution_count": 1,
   "metadata": {},
   "outputs": [],
   "source": [
    "sentence = [\"History\", \"is\", \"full\", \"of\", \"people\", \"who\", \"knew\", \"about\", \"history\"]"
   ]
  },
  {
   "cell_type": "markdown",
   "metadata": {},
   "source": [
    "Next, we can print the contents of the `sentence`:"
   ]
  },
  {
   "cell_type": "code",
   "execution_count": 2,
   "metadata": {},
   "outputs": [
    {
     "data": {
      "text/plain": [
       "['History', 'is', 'full', 'of', 'people', 'who', 'knew', 'about', 'history']"
      ]
     },
     "execution_count": 2,
     "metadata": {},
     "output_type": "execute_result"
    }
   ],
   "source": [
    "sentence"
   ]
  },
  {
   "cell_type": "markdown",
   "metadata": {},
   "source": [
    "We can ask for its length to find how many words are in the sentence:"
   ]
  },
  {
   "cell_type": "code",
   "execution_count": 24,
   "metadata": {},
   "outputs": [
    {
     "data": {
      "text/plain": [
       "9"
      ]
     },
     "execution_count": 24,
     "metadata": {},
     "output_type": "execute_result"
    }
   ],
   "source": [
    "len(sentence)"
   ]
  },
  {
   "cell_type": "markdown",
   "metadata": {},
   "source": [
    "For the purpose of this exercise, we define two sentences:"
   ]
  },
  {
   "cell_type": "code",
   "execution_count": 25,
   "metadata": {},
   "outputs": [
    {
     "name": "stdout",
     "output_type": "stream",
     "text": [
      "['History', 'is', 'full', 'of', 'people', 'who', 'knew', 'about', 'history']\n",
      "['but', 'kept', 'on', 'repeating', 'the', 'same', 'mistakes', 'again', 'and', 'again', 'anyway']\n"
     ]
    }
   ],
   "source": [
    "sentence1 = [\"History\", \"is\", \"full\", \"of\", \"people\", \"who\", \"knew\", \"about\", \"history\"]\n",
    "sentence2 = [\"but\", \"kept\", \"on\", \"repeating\", \"the\", \"same\", \"mistakes\", \"again\", \"and\", \"again\", \"anyway\"]\n",
    "\n",
    "print(sentence1)\n",
    "print(sentence2)"
   ]
  },
  {
   "cell_type": "markdown",
   "metadata": {},
   "source": [
    "Adding two lists creates a new list with everything from the first list, followed by everything from the second list:"
   ]
  },
  {
   "cell_type": "code",
   "execution_count": 26,
   "metadata": {},
   "outputs": [
    {
     "name": "stdout",
     "output_type": "stream",
     "text": [
      "['History', 'is', 'full', 'of', 'people', 'who', 'knew', 'about', 'history', 'but', 'kept', 'on', 'repeating', 'the', 'same', 'mistakes', 'again', 'and', 'again', 'anyway']\n"
     ]
    }
   ],
   "source": [
    "sentence = sentence1 + sentence2\n",
    "\n",
    "print(sentence)"
   ]
  },
  {
   "cell_type": "markdown",
   "metadata": {},
   "source": [
    "We can add a new item to the list. When we `append()` to a list, the list itself is updated as a result of the operation."
   ]
  },
  {
   "cell_type": "code",
   "execution_count": 27,
   "metadata": {},
   "outputs": [
    {
     "name": "stdout",
     "output_type": "stream",
     "text": [
      "['History', 'is', 'full', 'of', 'people', 'who', 'knew', 'about', 'history', 'but', 'kept', 'on', 'repeating', 'the', 'same', 'mistakes', 'again', 'and', 'again', 'anyway', '.']\n"
     ]
    }
   ],
   "source": [
    "sentence.append(\".\")\n",
    "\n",
    "print(sentence)"
   ]
  },
  {
   "cell_type": "markdown",
   "metadata": {},
   "source": [
    "We can identify the elements of a Python list by their order of occurrence in the list:"
   ]
  },
  {
   "cell_type": "code",
   "execution_count": 28,
   "metadata": {},
   "outputs": [
    {
     "name": "stdout",
     "output_type": "stream",
     "text": [
      "History\n"
     ]
    }
   ],
   "source": [
    "print(sentence[0])"
   ]
  },
  {
   "cell_type": "code",
   "execution_count": 30,
   "metadata": {},
   "outputs": [
    {
     "name": "stdout",
     "output_type": "stream",
     "text": [
      "people\n"
     ]
    }
   ],
   "source": [
    "print(sentence[4])"
   ]
  },
  {
   "cell_type": "markdown",
   "metadata": {},
   "source": [
    "We can also extract a *slice* or *sublist* from `sentence`:"
   ]
  },
  {
   "cell_type": "code",
   "execution_count": 34,
   "metadata": {},
   "outputs": [
    {
     "name": "stdout",
     "output_type": "stream",
     "text": [
      "['is', 'full', 'of', 'people']\n"
     ]
    }
   ],
   "source": [
    "print(sentence[1:5])"
   ]
  },
  {
   "cell_type": "markdown",
   "metadata": {},
   "source": [
    "Any individual word in the `sentence` is a `word` of type *String* (short *str*):"
   ]
  },
  {
   "cell_type": "code",
   "execution_count": 35,
   "metadata": {},
   "outputs": [
    {
     "name": "stdout",
     "output_type": "stream",
     "text": [
      "history\n",
      "<class 'str'>\n"
     ]
    }
   ],
   "source": [
    "word = \"history\"\n",
    "\n",
    "print(word)\n",
    "print(type(word))"
   ]
  } 
  ],
 "metadata": {
  "kernelspec": {
   "display_name": "Python 3 (ipykernel)",
   "language": "python",
   "name": "python3"
  },
  "language_info": {
   "codemirror_mode": {
    "name": "ipython",
    "version": 3
   },
   "file_extension": ".py",
   "mimetype": "text/x-python",
   "name": "python",
   "nbconvert_exporter": "python",
   "pygments_lexer": "ipython3",
   "version": "3.8.11"
  }
 },
 "nbformat": 4,
 "nbformat_minor": 2
}