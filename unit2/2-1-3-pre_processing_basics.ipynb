{
 "cells": [
  {
   "cell_type": "markdown",
   "metadata": {},
   "source": [
    "# Text Mining"
   ]
  },
  {
   "cell_type": "markdown",
   "metadata": {},
   "source": [
    "Text mining\n",
    "Prerequisite: Technicalities\n",
    "Wikidata API, other APIs\n",
    "Scraping HTML to extract structured/semi-structured information\n",
    "\n"
   ]
  },
  {
   "cell_type": "markdown",
   "metadata": {},
   "source": [
    "\n",
    "Processing text\n",
    "Rule based (regex, etc)\n",
    "PoS tagging\n",
    "N-grams, co-occurrences and concordancer\n",
    "Word embeddings (word2vec, BERT, etc)\n"
   ]
  },
  {
   "cell_type": "markdown",
   "metadata": {},
   "source": [
    "### (b) Text Pre-processing\n",
    "\n",
    "- Rule-based Techniques (regex, etc)\n",
    "- Part-of-Speech (PoS) tagging\n",
    "- Chunking\n",
    "- N-grams, co-occurrences and concordancer\n",
    "- Word embeddings (word2vec, BERT, etc)\n"
   ]
  },
  {
   "cell_type": "markdown",
   "metadata": {},
   "source": [
    "### i. Programming Basics"
   ]
  },
  {
   "cell_type": "markdown",
   "metadata": {},
   "source": [
    "A **text** as nothing more than a sequence of **words** and **punctuation**. In the following example, `sentence` followed by the `=` sign, and then some quoted words, separated with commas, surrounded with brackets is known as a list in Python."
   ]
  },
  {
   "cell_type": "code",
   "execution_count": 1,
   "metadata": {},
   "outputs": [],
   "source": [
    "sentence = [\"History\", \"is\", \"full\", \"of\", \"people\", \"who\", \"knew\", \"about\", \"history\"]"
   ]
  },
  {
   "cell_type": "markdown",
   "metadata": {},
   "source": [
    "Next, we can print the contents of the `sentence`:"
   ]
  },
  {
   "cell_type": "code",
   "execution_count": 2,
   "metadata": {},
   "outputs": [
    {
     "data": {
      "text/plain": [
       "['History', 'is', 'full', 'of', 'people', 'who', 'knew', 'about', 'history']"
      ]
     },
     "execution_count": 2,
     "metadata": {},
     "output_type": "execute_result"
    }
   ],
   "source": [
    "sentence"
   ]
  },
  {
   "cell_type": "markdown",
   "metadata": {},
   "source": [
    "We can ask for its length to find how many words are in the sentence:"
   ]
  },
  {
   "cell_type": "code",
   "execution_count": 24,
   "metadata": {},
   "outputs": [
    {
     "data": {
      "text/plain": [
       "9"
      ]
     },
     "execution_count": 24,
     "metadata": {},
     "output_type": "execute_result"
    }
   ],
   "source": [
    "len(sentence)"
   ]
  },
  {
   "cell_type": "markdown",
   "metadata": {},
   "source": [
    "For the purpose of this exercise, we define two sentences:"
   ]
  },
  {
   "cell_type": "code",
   "execution_count": 25,
   "metadata": {},
   "outputs": [
    {
     "name": "stdout",
     "output_type": "stream",
     "text": [
      "['History', 'is', 'full', 'of', 'people', 'who', 'knew', 'about', 'history']\n",
      "['but', 'kept', 'on', 'repeating', 'the', 'same', 'mistakes', 'again', 'and', 'again', 'anyway']\n"
     ]
    }
   ],
   "source": [
    "sentence1 = [\"History\", \"is\", \"full\", \"of\", \"people\", \"who\", \"knew\", \"about\", \"history\"]\n",
    "sentence2 = [\"but\", \"kept\", \"on\", \"repeating\", \"the\", \"same\", \"mistakes\", \"again\", \"and\", \"again\", \"anyway\"]\n",
    "\n",
    "print(sentence1)\n",
    "print(sentence2)"
   ]
  },
  {
   "cell_type": "markdown",
   "metadata": {},
   "source": [
    "Adding two lists creates a new list with everything from the first list, followed by everything from the second list:"
   ]
  },
  {
   "cell_type": "code",
   "execution_count": 26,
   "metadata": {},
   "outputs": [
    {
     "name": "stdout",
     "output_type": "stream",
     "text": [
      "['History', 'is', 'full', 'of', 'people', 'who', 'knew', 'about', 'history', 'but', 'kept', 'on', 'repeating', 'the', 'same', 'mistakes', 'again', 'and', 'again', 'anyway']\n"
     ]
    }
   ],
   "source": [
    "sentence = sentence1 + sentence2\n",
    "\n",
    "print(sentence)"
   ]
  },
  {
   "cell_type": "markdown",
   "metadata": {},
   "source": [
    "We can add a new item to the list. When we `append()` to a list, the list itself is updated as a result of the operation."
   ]
  },
  {
   "cell_type": "code",
   "execution_count": 27,
   "metadata": {},
   "outputs": [
    {
     "name": "stdout",
     "output_type": "stream",
     "text": [
      "['History', 'is', 'full', 'of', 'people', 'who', 'knew', 'about', 'history', 'but', 'kept', 'on', 'repeating', 'the', 'same', 'mistakes', 'again', 'and', 'again', 'anyway', '.']\n"
     ]
    }
   ],
   "source": [
    "sentence.append(\".\")\n",
    "\n",
    "print(sentence)"
   ]
  },
  {
   "cell_type": "markdown",
   "metadata": {},
   "source": [
    "We can identify the elements of a Python list by their order of occurrence in the list:"
   ]
  },
  {
   "cell_type": "code",
   "execution_count": 28,
   "metadata": {},
   "outputs": [
    {
     "name": "stdout",
     "output_type": "stream",
     "text": [
      "History\n"
     ]
    }
   ],
   "source": [
    "print(sentence[0])"
   ]
  },
  {
   "cell_type": "code",
   "execution_count": 30,
   "metadata": {},
   "outputs": [
    {
     "name": "stdout",
     "output_type": "stream",
     "text": [
      "people\n"
     ]
    }
   ],
   "source": [
    "print(sentence[4])"
   ]
  },
  {
   "cell_type": "markdown",
   "metadata": {},
   "source": [
    "We can also extract a *slice* or *sublist* from `sentence`:"
   ]
  },
  {
   "cell_type": "code",
   "execution_count": 34,
   "metadata": {},
   "outputs": [
    {
     "name": "stdout",
     "output_type": "stream",
     "text": [
      "['is', 'full', 'of', 'people']\n"
     ]
    }
   ],
   "source": [
    "print(sentence[1:5])"
   ]
  },
  {
   "cell_type": "markdown",
   "metadata": {},
   "source": [
    "Any individual word in the `sentence` is a `word` of type *String* (short *str*):"
   ]
  },
  {
   "cell_type": "code",
   "execution_count": 35,
   "metadata": {},
   "outputs": [
    {
     "name": "stdout",
     "output_type": "stream",
     "text": [
      "history\n",
      "<class 'str'>\n"
     ]
    }
   ],
   "source": [
    "word = \"history\"\n",
    "\n",
    "print(word)\n",
    "print(type(word))"
   ]
  },
  {
   "cell_type": "markdown",
   "metadata": {},
   "source": [
    "### RegEx Basics\n",
    "\n",
    "Regular expressions or RegEx is a sequence of characters mainly used to find or replace patterns embedded in the text.\n",
    "\n"
   ]
  },
  {
   "cell_type": "markdown",
   "metadata": {},
   "source": [
    "- \\b returns a match where the specified pattern is at the beginning or at the end of a word.\n",
    "- \\d returns a match where the string contains digits (numbers from 0-9).\n",
    "- \\D returns a match where the string does not contain any digit. It is basically the opposite of \\d.\n",
    "- \\w helps in extraction of alphanumeric characters only (characters from a to Z, digits from 0-9, and the underscore _ character)\n",
    "- \\W returns match at every non-alphanumeric character. Basically opposite of \\w.\n",
    "- (.) matches any character (except newline character)\n",
    "- (^) checks whether the string starts with the given pattern or not.\n",
    "- ($) checks whether the string ends with the given pattern or not.\n",
    "- (*) matches for zero or more occurrences of the pattern to the left of it\n",
    "- (+) matches one or more occurrences of the pattern to the left of it\n",
    "- (?) matches zero or one occurrence of the pattern left to it.\n",
    "- (|) checks whether any of the two patterns, to its left and right, is present in the text or not."
   ]
  },
  {
   "cell_type": "code",
   "execution_count": null,
   "metadata": {},
   "outputs": [],
   "source": []
  },
  {
   "cell_type": "code",
   "execution_count": null,
   "metadata": {},
   "outputs": [],
   "source": []
  },
  {
   "cell_type": "markdown",
   "metadata": {},
   "source": [
    "Python has a built-in module to work with regular expressions called `re`. Some common methods from this module are:\n",
    "\n",
    "    - re.match()\n",
    "    - re.search()\n",
    "    - re.findall()\n"
   ]
  },
  {
   "cell_type": "markdown",
   "metadata": {},
   "source": [
    "1. The `re.match(pattern, string)` function returns a match object on success and none on failure."
   ]
  },
  {
   "cell_type": "code",
   "execution_count": 11,
   "metadata": {},
   "outputs": [
    {
     "data": {
      "text/plain": [
       "(0, 7)"
      ]
     },
     "execution_count": 11,
     "metadata": {},
     "output_type": "execute_result"
    }
   ],
   "source": [
    "import re\n",
    "result = re.match('History', 'History is full of people who knew about history.')\n",
    "\n",
    "result.span()"
   ]
  },
  {
   "cell_type": "markdown",
   "metadata": {},
   "source": [
    "2. `re.search(pattern, string)` matches the first occurrence of a pattern in the entire string(and not just at the beginning)."
   ]
  },
  {
   "cell_type": "code",
   "execution_count": 12,
   "metadata": {},
   "outputs": [
    {
     "name": "stdout",
     "output_type": "stream",
     "text": [
      "history\n"
     ]
    }
   ],
   "source": [
    "result = re.search('history', 'History is full of people who knew about history.')\n",
    "print(result.group())"
   ]
  },
  {
   "cell_type": "markdown",
   "metadata": {},
   "source": [
    "3. `re.findall(pattern, string)` will return all the occurrences of the pattern from the string. I would recommend you to use re.findall() always, it can work like both `re.search()` and `re.match()`."
   ]
  },
  {
   "cell_type": "code",
   "execution_count": 13,
   "metadata": {},
   "outputs": [
    {
     "name": "stdout",
     "output_type": "stream",
     "text": [
      "['history', 'history']\n"
     ]
    }
   ],
   "source": [
    "result = re.findall('history', 'History is full of people who knew about history but they kept on repeating the history.')\n",
    "print(result)"
   ]
  } 
  ],
 "metadata": {
  "kernelspec": {
   "display_name": "Python 3 (ipykernel)",
   "language": "python",
   "name": "python3"
  },
  "language_info": {
   "codemirror_mode": {
    "name": "ipython",
    "version": 3
   },
   "file_extension": ".py",
   "mimetype": "text/x-python",
   "name": "python",
   "nbconvert_exporter": "python",
   "pygments_lexer": "ipython3",
   "version": "3.8.11"
  }
 },
 "nbformat": 4,
 "nbformat_minor": 2
}